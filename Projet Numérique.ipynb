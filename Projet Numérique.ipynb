{
 "cells": [
  {
   "cell_type": "markdown",
   "metadata": {},
   "source": [
    "#### Question 8\n",
    "On pose :\n",
    "$\\begin{cases}\n",
    "P_1 = (g,h) \\\\ P_2 = (i,j) \\\\ u_1 = (k,l) \\\\ u_2 = (m,n)\n",
    "\\end{cases}$\n",
    "\n",
    "\n",
    "**Analyse** :\n",
    "\n",
    "1. $\\gamma(0)=(a,d)=P_1, $ \n",
    "1. $\\gamma(1)=(a+b+c,d+e+f)=P_2 $ \n",
    "1. $\\gamma'(0)=\\lambda*u_1=(b,e)$ où $ \\lambda \\in \\mathbb{R}_+^* $ (car même sens, le $\\lambda \\ne 0$ dépend de l'interprétation)\n",
    "1. $\\gamma'(1)=\\lambda'*u_2=(b+2c,e+2f)$ où $ \\lambda' \\in \\mathbb{R}_+^* $\n",
    "\n"
   ]
  },
  {
   "cell_type": "markdown",
   "metadata": {},
   "source": [
    "On obtient ainsi un système de 8 équations pour 8 inconnues (6 inconnues + 2 paramètres) qui se résout en :\n",
    "1. $ a = g $ et $ d = h$\n",
    "1. $ b+c = i-g $ et $ e+f = j-h $\n",
    "1. $ b = \\lambda k $ et $ e = \\lambda l $\n",
    "1. $ b+2c = \\lambda'm $ et $ e+2f = \\lambda'n$"
   ]
  },
  {
   "cell_type": "markdown",
   "metadata": {},
   "source": [
    "4) et 3) donnent \n",
    "$  2(b+c)-\\lambda k = \\lambda'm $\n",
    "\n",
    "D'où par 2)\n",
    "\\begin{equation}\n",
    "(1) : \\   2(i-g)-\\lambda k = \\lambda'm \n",
    "\\end{equation}\n",
    "\n",
    "\n",
    "Le même raisonnement donne \n",
    "\n",
    "\\begin{equation}\n",
    "(2) : \\ 2(j-h)-\\lambda l = \\lambda'n \n",
    "\\end{equation}"
   ]
  },
  {
   "cell_type": "markdown",
   "metadata": {},
   "source": [
    "(1) donne alors $\\lambda k = 2(i-g)-\\lambda'm$."
   ]
  },
  {
   "cell_type": "markdown",
   "metadata": {},
   "source": [
    "On a donc $\\lambda kn = 2n(i-g) - m[2(j-h)-\\lambda l]$"
   ]
  },
  {
   "cell_type": "markdown",
   "metadata": {},
   "source": [
    "Puis $ \\lambda (kn-lm) = 2[n(i-g)-m(j-h)] : (*) $\n",
    "\n",
    "D'où $ \\lambda (kn-lm)^2 = 2(kn-lm)[n(i-g)-m(j-h)]$\n",
    "\n",
    "Puisque $ \\lambda \\geq 0 $ on a la condition $ (kn-lm)[n(i-g)-m(j-h)] \\geq 0$"
   ]
  },
  {
   "cell_type": "markdown",
   "metadata": {},
   "source": [
    "Soit $ (u_1 \\wedge u_2)[u_2 \\wedge (P_2-P_1)] \\geq 0 $\n",
    "\n",
    "On remarque dans $(*)$ que $u_1 // u_2 \\Leftrightarrow (P_2-P_1) // u_2$"
   ]
  },
  {
   "cell_type": "markdown",
   "metadata": {},
   "source": [
    "**Remarque** : Le même raisonnement sur $\\lambda'$ conduit au même résultat. "
   ]
  },
  {
   "cell_type": "markdown",
   "metadata": {},
   "source": [
    " "
   ]
  },
  {
   "cell_type": "markdown",
   "metadata": {},
   "source": [
    "* 1er cas : $u_1 // u_2$. \n",
    " * 1er sous-cas : $P_2-P_1$ non colinéaire à $u_2$ (et $u_1$).Pas de solution.\n",
    " * 2ème sous-cas : $(P_2-P_1)$ // $u_2$ (et $u_1$)\n",
    "\n",
    "On pose a alors $(\\alpha ,\\beta) \\in (\\mathbb{R}^*)^2 $ tel que :\n",
    "$\\begin{cases}\n",
    "i-g =\\alpha k \\\\\n",
    "j-h =\\alpha l \\\\\n",
    "m = \\beta k \\\\\n",
    "n = \\beta l\n",
    "\\end{cases}$\n",
    "\n",
    "$(*)$ donne alors $0=0$ (perte d'une équation) et puisque $u_1 \\neq 0$, on a $k \\neq 0$ ou $l \\neq 0$. Grâce à $(1)$ ou $(2)$ on obtient $\\lambda = 2 \\alpha - \\beta \\lambda'$\n",
    "  * 1er sous-sous cas : $\\alpha > 0$\n",
    "Alors on peut choisir $\\lambda'>0$ suffisament petit tel que $\\lambda >0$\n",
    "  * 2ème sous-sous cas : $\\alpha < 0$\n",
    "   * 1er sous-sous-sous cas : $\\beta >0$. Pas de solution.\n",
    "   * 2ème sous-sous-sous cas : $\\beta <0$. Alors pour $\\lambda'>0$ assez grand, on aura $\\lambda>0$\n",
    " \n",
    "Dans les cas où des solutions existent, il y en a une infinité (de paramètre $\\lambda'$)\n",
    "\n",
    "On aura alors \n",
    "$\\begin{cases}\n",
    "b = (2\\alpha-\\beta \\lambda')u_{1,x} \\\\\n",
    "c = (\\beta \\lambda'-\\alpha)u_{1,x} \\\\\n",
    "e = (2\\alpha-\\beta \\lambda')u_{1,y} \\\\\n",
    "f = (\\beta \\lambda'-\\alpha)u_{1,y} \\\\\n",
    "\\end{cases}$\n",
    "\n",
    "* 2ème cas : $u_1$ non colinéaire à $u_2$.\n",
    " * 1er sous-cas : $ (u_1 \\wedge u_2)[u_2 \\wedge (P_2-P_1)]< 0 $ ou $ (u_1 \\wedge u_2)[u_1 \\wedge (P_2-P_1)]< 0 $ . Pas de solution.\n",
    " * 2ème sous-cas : $ (u_1 \\wedge u_2)[u_2 \\wedge (P_2-P_1)] \\geq 0 $ et $ (u_1 \\wedge u_2)[u_1 \\wedge (P_2-P_1)] \\geq 0 $ :\n",
    "\n",
    "Alors $ \\lambda = 2\\frac{n(i-g)-m(j-h)}{kn-lm} = \\frac{u_2 \\wedge (P_2-P_1)}{u_1 \\wedge u_2}$\n",
    "\n",
    "Par symétrie on a $\\lambda' = \\frac{u_1 \\wedge (P_2-P_1)}{u_1 \\wedge u_2}$\n",
    "\n",
    "On aura alors \n",
    "$\\begin{cases}\n",
    "b = 2\\frac{u_2 \\wedge (P_2-P_1)}{u_1 \\wedge u_2}u_{1,x} \\\\\n",
    "c = (P_2-P_1)_x-2\\frac{u_2 \\wedge (P_2-P_1)}{u_1 \\wedge u_2}u_{1,x}\\\\\n",
    "e = 2\\frac{u_1 \\wedge (P_2-P_1)}{u_1 \\wedge u_2}u_{1,y}\\\\\n",
    "f = (P_2-P_1)_y-2\\frac{u_1 \\wedge (P_2-P_1)}{u_1 \\wedge u_2}u_{1,y}\n",
    "\\end{cases}$"
   ]
  },
  {
   "cell_type": "markdown",
   "metadata": {},
   "source": [
    "Réciproquement, dans les cas où des solutions existent, on vérifie que les conditions nécéssaires sont suffisantes. C'est bien le cas."
   ]
  },
  {
   "cell_type": "markdown",
   "metadata": {},
   "source": [
    "# Tâche 6"
   ]
  },
  {
   "cell_type": "code",
   "execution_count": 1,
   "metadata": {},
   "outputs": [],
   "source": [
    "def gamma(t,P1,P2,u1,u2):\n",
    "    a, d = P1[0],P1[1]\n",
    "    def rectiligne(t):\n",
    "        return ((P2[0]-P1[0])*t,(P2[1]-P1[1])*t)\n",
    "    u1, u2, P1, P2 = np.array(u1),np.array(u2),np.array(P1),np.array(P2)\n",
    "    if np.cross(u1,u2)==0 : #u1 colinéaire à u2\n",
    "        if np.cross(P2-P1,u1)!=0: \n",
    "            return rectiligne(t)\n",
    "        else :\n",
    "            if u1[0]!=0:\n",
    "                alpha = (P2-P1)[0]/u1[0]\n",
    "                beta = u2[0]/u1[0]\n",
    "            else : # Alors nécéssairement u1[1]!=0\n",
    "                alpha = (P2-P1)[1]/u1[1]\n",
    "                beta = u2[1]/u1[1]\n",
    "            if alpha < 0 and beta > 0:\n",
    "                return rectiligne(t)\n",
    "            elif alpha < 0 and beta <0:\n",
    "                Lambda_prim = 1\n",
    "                Lambda = 2*alpha-beta*Lambda_prim #lambda variable qui existe déjà\n",
    "                while Lambda < 0:\n",
    "                    Lambda_prim+=1\n",
    "                    Lambda = 2*alpha-beta*Lambda_prim\n",
    "            elif alpha > 0:\n",
    "                Lambda_prim = 0.5\n",
    "                Lambda = 2*alpha-beta*Lambda_prim\n",
    "                while Lambda < 0:\n",
    "                    Lambda_prim/=2\n",
    "                    Lambda = 2*alpha-beta*Lambda_prim\n",
    "    else : \n",
    "        if np.cross(u1,u2)*np.cross(u1,P2-P1)<0 or np.cross(u1,u2)*np.cross(u2,P2-P1)<0 : #On doit avoir lambda > 0 et lambda' > 0\n",
    "            return rectiligne(t)\n",
    "        else : \n",
    "            Lambda = np.cross(u1,u2)*np.cross(u2,P2-P1)\n",
    "    b, e = Lambda*u1[0], Lambda*u1[1],\n",
    "    c, f = (P2-P1)[0]-b, (P2-P1)[1]-e\n",
    "    return (a+b*t+c*t**2,d+e*t+f*t**2)\n",
    "        \n",
    "        "
   ]
  },
  {
   "cell_type": "code",
   "execution_count": null,
   "metadata": {},
   "outputs": [],
   "source": []
  }
 ],
 "metadata": {
  "kernelspec": {
   "display_name": "Python 3",
   "language": "python",
   "name": "python3"
  },
  "language_info": {
   "codemirror_mode": {
    "name": "ipython",
    "version": 3
   },
   "file_extension": ".py",
   "mimetype": "text/x-python",
   "name": "python",
   "nbconvert_exporter": "python",
   "pygments_lexer": "ipython3",
   "version": "3.8.3"
  }
 },
 "nbformat": 4,
 "nbformat_minor": 4
}
