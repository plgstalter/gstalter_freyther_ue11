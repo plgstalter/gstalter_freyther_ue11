{
 "cells": [
  {
   "cell_type": "markdown",
   "metadata": {},
   "source": [
    "#### Question 8\n",
    "On pose :\n",
    "$\\begin{cases}\n",
    "P_1 = (g,h) \\\\ P_2 = (i,j) \\\\ u_1 = (k,l) \\\\ u_2 = (m,n)\n",
    "\\end{cases}$\n",
    "\n",
    "\n",
    "**Analyse** :\n",
    "\n",
    "1. $\\gamma(0)=(a,d)=P_1, $ \n",
    "1. $\\gamma(1)=(a+b+c,d+e+f)=P_2 $ \n",
    "1. $\\gamma'(0)=\\lambda*u_1=(b,e)$ où $ \\lambda \\in \\mathbb{R}_+^* $ (car même sens, le $\\lambda \\ne 0$ dépend de l'interprétation)\n",
    "1. $\\gamma'(1)=\\lambda'*u_2=(b+2c,e+2f)$ où $ \\lambda' \\in \\mathbb{R}_+^* $\n",
    "\n"
   ]
  },
  {
   "cell_type": "markdown",
   "metadata": {},
   "source": [
    "On obtient ainsi un système de 8 équations pour 8 inconnues (6 inconnues + 2 paramètres) qui se résout en :\n",
    "1. $ a = g $ et $ d = h$\n",
    "1. $ b+c = i-g $ et $ e+f = j-h $\n",
    "1. $ b = \\lambda k $ et $ e = \\lambda l $\n",
    "1. $ b+2c = \\lambda'm $ et $ e+2f = \\lambda'n$"
   ]
  },
  {
   "cell_type": "markdown",
   "metadata": {},
   "source": [
    "4) et 3) donnent \n",
    "$  2(b+c)-\\lambda k = \\lambda'm $\n",
    "\n",
    "D'où par 2)\n",
    "\\begin{equation}\n",
    "(1) : \\   2(i-g)-\\lambda k = \\lambda'm \n",
    "\\end{equation}\n",
    "\n",
    "\n",
    "Le même raisonnement donne \n",
    "\n",
    "\\begin{equation}\n",
    "(2) : \\ 2(j-h)-\\lambda l = \\lambda'n \n",
    "\\end{equation}"
   ]
  },
  {
   "cell_type": "markdown",
   "metadata": {},
   "source": [
    "(1) donne alors $\\lambda k = 2(i-g)-\\lambda'm$."
   ]
  },
  {
   "cell_type": "markdown",
   "metadata": {},
   "source": [
    "On a donc $\\lambda kn = 2n(i-g) - m[2(j-h)-\\lambda l]$"
   ]
  },
  {
   "cell_type": "markdown",
   "metadata": {},
   "source": [
    "Puis $ \\lambda (kn-lm) = 2[n(i-g)-m(j-h)] : (*) $\n",
    "\n",
    "D'où $ \\lambda (kn-lm)^2 = 2(kn-lm)[n(i-g)-m(j-h)]$\n",
    "\n",
    "Puisque $ \\lambda \\geq 0 $ on a la condition $ (kn-lm)[n(i-g)-m(j-h)] \\geq 0$"
   ]
  },
  {
   "cell_type": "markdown",
   "metadata": {},
   "source": [
    "Soit $ (u_1 \\wedge u_2)[u_2 \\wedge (P_2-P_1)] \\geq 0 $\n",
    "\n",
    "On remarque dans $(*)$ que $u_1 // u_2 \\Leftrightarrow (P_2-P_1) // u_2$"
   ]
  },
  {
   "cell_type": "markdown",
   "metadata": {},
   "source": [
    "**Remarque** : Le même raisonnement sur $\\lambda'$ conduit au même résultat. "
   ]
  },
  {
   "cell_type": "markdown",
   "metadata": {},
   "source": [
    " "
   ]
  },
  {
   "cell_type": "markdown",
   "metadata": {},
   "source": [
    "* 1er cas : $u_1 // u_2$. \n",
    " * 1er sous-cas : $P_2-P_1$ non colinéaire à $u_2$ (et $u_1$).Pas de solution.\n",
    " * 2ème sous-cas : $(P_2-P_1)$ // $u_2$ (et $u_1$)\n",
    " \n",
    "\n",
    "\n",
    "\n",
    "\n",
    "* 2ème cas : $u_1$ non colinéaire à $u_2$.\n",
    " * 1er sous-cas : $ (u_1 \\wedge u_2)[u_2 \\wedge (P_2-P_1)] < 0 $. Pas de solution.\n",
    " * 2ème sous-cas : $ (u_1 \\wedge u_2)[u_2 \\wedge (P_2-P_1)] \\geq 0 $ :\n",
    "\n",
    "Alors $ \\lambda = 2\\frac{n(i-g)-m(j-h)}{kn-lm} = \\frac{u_2 \\wedge (P_2-P_1)}{u_1 \\wedge u_2}$\n",
    "\n",
    "Donc $b = 2\\frac{u_2 \\wedge (P_2-P_1)}{u_1 \\wedge u_2}u_{1,x}$ et $ c = (P_2-P_1)_x-2\\frac{u_2 \\wedge (P_2-P_1)}{u_1 \\wedge u_2}u_{1,x}$\n",
    "\n",
    "Par symétrie on a $\\lambda' = \\frac{u_1 \\wedge (P_2-P_1)}{u_1 \\wedge u_2}$\n",
    "\n",
    "\n",
    "Puis $e = 2\\frac{u_1 \\wedge (P_2-P_1)}{u_1 \\wedge u_2}u_{1,y}$ et $ f = (P_2-P_1)_y-2\\frac{u_1 \\wedge (P_2-P_1)}{u_1 \\wedge u_2}u_{1,y}$"
   ]
  },
  {
   "cell_type": "code",
   "execution_count": null,
   "metadata": {},
   "outputs": [],
   "source": []
  },
  {
   "cell_type": "code",
   "execution_count": null,
   "metadata": {},
   "outputs": [],
   "source": []
  }
 ],
 "metadata": {
  "kernelspec": {
   "display_name": "Python 3",
   "language": "python",
   "name": "python3"
  },
  "language_info": {
   "codemirror_mode": {
    "name": "ipython",
    "version": 3
   },
   "file_extension": ".py",
   "mimetype": "text/x-python",
   "name": "python",
   "nbconvert_exporter": "python",
   "pygments_lexer": "ipython3",
   "version": "3.8.3"
  }
 },
 "nbformat": 4,
 "nbformat_minor": 4
}
